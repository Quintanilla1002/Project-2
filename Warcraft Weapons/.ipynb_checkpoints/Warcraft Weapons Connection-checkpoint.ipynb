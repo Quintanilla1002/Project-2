{
 "cells": [
  {
   "cell_type": "code",
   "execution_count": 19,
   "metadata": {},
   "outputs": [],
   "source": [
    "import pandas as pd\n",
    "# Python SQL toolkit and Object Relational Mapper\n",
    "import sqlalchemy\n",
    "from sqlalchemy.ext.automap import automap_base\n",
    "from sqlalchemy.orm import Session\n",
    "from sqlalchemy import create_engine, func"
   ]
  },
  {
   "cell_type": "code",
   "execution_count": 20,
   "metadata": {},
   "outputs": [],
   "source": [
    "rds_connection_string = \"postgres:postgres@localhost:5432/Warcraft Weapons\"\n",
    "engine = create_engine(f'postgresql://{rds_connection_string}')"
   ]
  },
  {
   "cell_type": "code",
   "execution_count": 21,
   "metadata": {},
   "outputs": [],
   "source": [
    "# reflect an existing database into a new model\n",
    "Base = automap_base()\n",
    "\n",
    "# reflect the tables\n",
    "Base.prepare(engine, reflect=True)"
   ]
  },
  {
   "cell_type": "code",
   "execution_count": 22,
   "metadata": {},
   "outputs": [
    {
     "data": {
      "text/plain": [
       "['onehand_weapons',\n",
       " 'mh_weapons',\n",
       " 'oh_weapons',\n",
       " 'ranged_weapons',\n",
       " 'twoh_weapons']"
      ]
     },
     "execution_count": 22,
     "metadata": {},
     "output_type": "execute_result"
    }
   ],
   "source": [
    "Base.classes.keys()"
   ]
  },
  {
   "cell_type": "code",
   "execution_count": 23,
   "metadata": {},
   "outputs": [],
   "source": [
    "onehand_weapons=Base.classes.onehand_weapons\n",
    "mh_weapons=Base.classes.mh_weapons\n",
    "oh_weapons=Base.classes.oh_weapons\n",
    "ranged_weapons=Base.classes.ranged_weapons\n",
    "twoh_weapons=Base.classes.twoh_weapons\n",
    "# Create our session (link) from Python to the DB\n",
    "session = Session(engine)"
   ]
  },
  {
   "cell_type": "code",
   "execution_count": 25,
   "metadata": {
    "scrolled": true
   },
   "outputs": [
    {
     "data": {
      "text/plain": [
       "{'_sa_instance_state': <sqlalchemy.orm.state.InstanceState at 0x23921299630>,\n",
       " 'weapon_speed_in_seconds': 3,\n",
       " 'max_damage': 438,\n",
       " 'min_damage': 262,\n",
       " 'name': 'Cold Forged Blade',\n",
       " 'dps': 135,\n",
       " 'quality': 'Epic',\n",
       " 'id': 1}"
      ]
     },
     "execution_count": 25,
     "metadata": {},
     "output_type": "execute_result"
    }
   ],
   "source": [
    "onehand_weaponsfirst_row = session.query(onehand_weapons).first()\n",
    "onehand_weaponsfirst_row.__dict__"
   ]
  },
  {
   "cell_type": "code",
   "execution_count": 26,
   "metadata": {},
   "outputs": [
    {
     "data": {
      "text/plain": [
       "{'_sa_instance_state': <sqlalchemy.orm.state.InstanceState at 0x23921299940>,\n",
       " 'min_damage': 1,\n",
       " 'name': 'Sunstrider Axe',\n",
       " 'weapon_speed_in_seconds': 3,\n",
       " 'max_damage': 2,\n",
       " 'quality': 'Common',\n",
       " 'id': 1,\n",
       " 'dps': 1}"
      ]
     },
     "execution_count": 26,
     "metadata": {},
     "output_type": "execute_result"
    }
   ],
   "source": [
    "mh_weaponsfirst_row = session.query(mh_weapons).first()\n",
    "mh_weaponsfirst_row.__dict__"
   ]
  },
  {
   "cell_type": "code",
   "execution_count": 27,
   "metadata": {},
   "outputs": [
    {
     "data": {
      "text/plain": [
       "{'_sa_instance_state': <sqlalchemy.orm.state.InstanceState at 0x23921299cc0>,\n",
       " 'name': \"Dal'Rend's Tribal Guardian\",\n",
       " 'weapon_speed_in_seconds': 3,\n",
       " 'max_damage': 28,\n",
       " 'quality': 'Rare',\n",
       " 'id': 1,\n",
       " 'dps': 9,\n",
       " 'min_damage': 16}"
      ]
     },
     "execution_count": 27,
     "metadata": {},
     "output_type": "execute_result"
    }
   ],
   "source": [
    "oh_weaponsfirst_row = session.query(oh_weapons).first()\n",
    "oh_weaponsfirst_row.__dict__"
   ]
  },
  {
   "cell_type": "code",
   "execution_count": 28,
   "metadata": {},
   "outputs": [
    {
     "data": {
      "text/plain": [
       "{'_sa_instance_state': <sqlalchemy.orm.state.InstanceState at 0x23921299630>,\n",
       " 'weapon_speed_in_seconds': 3,\n",
       " 'max_damage': 438,\n",
       " 'min_damage': 262,\n",
       " 'name': 'Cold Forged Blade',\n",
       " 'dps': 135,\n",
       " 'quality': 'Epic',\n",
       " 'id': 1}"
      ]
     },
     "execution_count": 28,
     "metadata": {},
     "output_type": "execute_result"
    }
   ],
   "source": [
    "ranged_weaponsfirst_row = session.query(ranged_weapons).first()\n",
    "ranged_weaponsfirst_row.__dict__"
   ]
  },
  {
   "cell_type": "code",
   "execution_count": 29,
   "metadata": {},
   "outputs": [
    {
     "data": {
      "text/plain": [
       "{'_sa_instance_state': <sqlalchemy.orm.state.InstanceState at 0x23921299630>,\n",
       " 'weapon_speed_in_seconds': 3,\n",
       " 'max_damage': 438,\n",
       " 'min_damage': 262,\n",
       " 'name': 'Cold Forged Blade',\n",
       " 'dps': 135,\n",
       " 'quality': 'Epic',\n",
       " 'id': 1}"
      ]
     },
     "execution_count": 29,
     "metadata": {},
     "output_type": "execute_result"
    }
   ],
   "source": [
    "twoh_weaponsfirst_row = session.query(twoh_weapons).first()\n",
    "twoh_weaponsfirst_row.__dict__"
   ]
  },
  {
   "cell_type": "code",
   "execution_count": null,
   "metadata": {},
   "outputs": [],
   "source": []
  }
 ],
 "metadata": {
  "kernelspec": {
   "display_name": "Python [conda env:PythonData] *",
   "language": "python",
   "name": "conda-env-PythonData-py"
  },
  "language_info": {
   "codemirror_mode": {
    "name": "ipython",
    "version": 3
   },
   "file_extension": ".py",
   "mimetype": "text/x-python",
   "name": "python",
   "nbconvert_exporter": "python",
   "pygments_lexer": "ipython3",
   "version": "3.7.1"
  }
 },
 "nbformat": 4,
 "nbformat_minor": 4
}
